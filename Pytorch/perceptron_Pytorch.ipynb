{
  "nbformat": 4,
  "nbformat_minor": 0,
  "metadata": {
    "colab": {
      "provenance": []
    },
    "kernelspec": {
      "name": "python3",
      "display_name": "Python 3"
    },
    "language_info": {
      "name": "python"
    }
  },
  "cells": [
    {
      "cell_type": "markdown",
      "source": [
        "###Perceptron\n",
        "it is a simplest form a neural network with a single neuron capable of linear predictions and it does not require a activation function or we do neet feed the activation function beacause of its smaller size."
      ],
      "metadata": {
        "id": "talAgTxsfikE"
      }
    },
    {
      "cell_type": "code",
      "execution_count": 6,
      "metadata": {
        "id": "bu--0kN6Vosj"
      },
      "outputs": [],
      "source": [
        "import numpy as np \n",
        "import pandas as pd\n",
        "import matplotlib.pyplot as plt\n",
        "import torch\n"
      ]
    },
    {
      "cell_type": "code",
      "source": [
        "dataset = np.genfromtxt(\"p2data.txt\",delimiter='\\t')\n",
        "X,y = dataset[:,:2],dataset[:,2]\n",
        "y = y.astype(np.int64)\n",
        "print('class label counts:',np.bincount(y))\n",
        "print('X.shape:',X.shape)\n",
        "print('y.shape:',y.shape)\n",
        "\n"
      ],
      "metadata": {
        "colab": {
          "base_uri": "https://localhost:8080/"
        },
        "id": "Rb07vIY2hLcn",
        "outputId": "0e24b2a5-8fc0-4f07-badc-896c8b197c07"
      },
      "execution_count": 7,
      "outputs": [
        {
          "output_type": "stream",
          "name": "stdout",
          "text": [
            "class label counts: [50 50]\n",
            "X.shape: (100, 2)\n",
            "y.shape: (100,)\n"
          ]
        }
      ]
    },
    {
      "cell_type": "markdown",
      "source": [
        "Shuffling and splitting the data into 70 :30 split as we have 100 rows of data\n"
      ],
      "metadata": {
        "id": "sobRuySqjS3x"
      }
    },
    {
      "cell_type": "code",
      "source": [
        "shuffle_idx = np.arange(y.shape[0])\n",
        "shuffle_rng = np.random.RandomState(123)\n",
        "shuffle_rng.shuffle(shuffle_idx)\n",
        "X,y = X[shuffle_idx],y[shuffle_idx]\n",
        "X_train,X_test = X[shuffle_idx[:70]],X[shuffle_idx[70:]]\n",
        "y_train,y_test = y[shuffle_idx[:70]],y[shuffle_idx[70:]]"
      ],
      "metadata": {
        "id": "oIwl_SjFiJxy"
      },
      "execution_count": 8,
      "outputs": []
    },
    {
      "cell_type": "code",
      "source": [
        "mu,sigma = X_train.mean(axis = 0),X_train.std(axis=0)\n",
        "X_train = (X_train-mu)/sigma\n",
        "X_test = (X_test-mu)/sigma\n",
        "X_train,X_test"
      ],
      "metadata": {
        "id": "KH21wraejaSj",
        "colab": {
          "base_uri": "https://localhost:8080/"
        },
        "outputId": "e82228cc-e6de-41c2-e67f-e2e5cd897195"
      },
      "execution_count": 9,
      "outputs": [
        {
          "output_type": "execute_result",
          "data": {
            "text/plain": [
              "(array([[ 1.37001499,  0.89400639],\n",
              "        [-1.47257051, -0.30436276],\n",
              "        [ 1.78644472,  1.28241061],\n",
              "        [ 0.75442323,  0.49612888],\n",
              "        [-0.70760722, -1.02433157],\n",
              "        [ 0.21125402, -1.03854148],\n",
              "        [ 0.3832576 , -0.63592734],\n",
              "        [-1.29604052, -2.21322744],\n",
              "        [ 0.6503158 ,  1.17346797],\n",
              "        [ 0.740844  ,  1.72765449],\n",
              "        [-1.13761617, -1.14274749],\n",
              "        [-2.35069406, -0.46540841],\n",
              "        [ 1.07579834,  1.48134937],\n",
              "        [-0.63518466, -0.65013725],\n",
              "        [-1.25077642, -2.04744514],\n",
              "        [-0.48128671, -1.35589615],\n",
              "        [ 0.44210094,  0.87505984],\n",
              "        [ 0.62768375,  0.7803271 ],\n",
              "        [-1.16024822, -1.13801085],\n",
              "        [-0.73023927,  0.28298022],\n",
              "        [ 0.47378581,  1.17346797],\n",
              "        [ 0.9219004 ,  0.29719013],\n",
              "        [ 0.90832117,  1.66134157],\n",
              "        [-0.44054902, -1.91955595],\n",
              "        [ 0.78158169,  0.2024574 ],\n",
              "        [-0.62160543, -1.16643068],\n",
              "        [ 0.71368554,  1.76554758],\n",
              "        [-0.79813542, -0.6311907 ],\n",
              "        [-0.98824464, -0.09121409],\n",
              "        [ 0.73179118,  0.86084993],\n",
              "        [ 0.57789324,  0.52454871],\n",
              "        [-0.60349978, -0.25225975],\n",
              "        [ 1.12106244,  0.33508323],\n",
              "        [-0.13275314, -1.00064838],\n",
              "        [ 1.20253782,  0.75190728],\n",
              "        [ 1.45149038,  0.33981987],\n",
              "        [ 0.81779297,  1.23030761],\n",
              "        [-0.95655977, -0.796973  ],\n",
              "        [ 0.04377685, -0.105424  ],\n",
              "        [ 0.6050517 ,  0.45823579],\n",
              "        [-0.27307185, -0.81591954],\n",
              "        [-1.30056693, -0.64540061],\n",
              "        [ 1.17537936,  0.77085383],\n",
              "        [ 0.01209198, -1.01959493],\n",
              "        [ 0.26557094,  1.05978868],\n",
              "        [-0.45412825, -0.67855707],\n",
              "        [ 0.59147247,  1.10715505],\n",
              "        [-0.93392772, -0.86328591],\n",
              "        [-1.75773435, -1.04327812],\n",
              "        [-0.2504398 , -0.82065618],\n",
              "        [ 0.89474194,  0.53875862],\n",
              "        [ 1.35643576,  1.00294904],\n",
              "        [-1.0606672 , -1.6827241 ],\n",
              "        [ 0.34251991,  0.63349136],\n",
              "        [-0.64423748,  0.06509492],\n",
              "        [ 1.22516987,  0.09351475],\n",
              "        [-1.81657768,  0.39192287],\n",
              "        [-0.1146475 ,  0.58612499],\n",
              "        [-0.75287132, -0.61698079],\n",
              "        [ 1.21611705,  1.28714725],\n",
              "        [ 0.20672761,  0.35402978],\n",
              "        [ 1.3292773 ,  0.54349525],\n",
              "        [ 0.55073478,  1.75607431],\n",
              "        [ 1.11200962,  0.33034659],\n",
              "        [-0.97919182, -1.10011776],\n",
              "        [-1.52688743, -0.38488558],\n",
              "        [ 2.01729163,  1.29662053],\n",
              "        [-1.30961975, -0.86802255],\n",
              "        [-1.05614079, -1.19011386],\n",
              "        [-0.69402799, -0.70224026]]), array([[-1.40014795, -1.84376976],\n",
              "        [ 1.47864884,  1.00294904],\n",
              "        [-0.53560363, -1.46957544],\n",
              "        [ 0.36515196,  1.31083044],\n",
              "        [ 1.79097113,  0.21193067],\n",
              "        [ 0.23841248,  0.0745682 ],\n",
              "        [ 0.6050517 ,  1.58081874],\n",
              "        [-0.50844517, -0.43225195],\n",
              "        [ 0.63673657,  0.86558657],\n",
              "        [ 0.70463272, -1.86745294],\n",
              "        [ 0.3832576 ,  1.24925416],\n",
              "        [ 1.01695501,  1.15452142],\n",
              "        [ 1.28853961,  1.23978088],\n",
              "        [ 1.80907677,  1.55239892],\n",
              "        [ 1.24327551,  1.04557877],\n",
              "        [ 0.44662735, -1.55009827],\n",
              "        [ 0.35609914,  0.97926585],\n",
              "        [ 1.91771061,  1.486086  ],\n",
              "        [ 0.48736504,  0.12193457],\n",
              "        [ 0.6503158 , -0.20015674],\n",
              "        [-0.18707006, -1.39378925],\n",
              "        [-1.76678717, -0.59329761],\n",
              "        [ 0.41041607,  1.77028422],\n",
              "        [ 0.41946889,  0.64296463],\n",
              "        [-0.01054007, -1.7206172 ],\n",
              "        [-1.41372718, -0.20015674],\n",
              "        [-0.6532903 , -0.63592734],\n",
              "        [-1.2869877 , -1.2848466 ],\n",
              "        [ 0.52810273,  1.38187999],\n",
              "        [ 1.37001499,  0.77559046]]))"
            ]
          },
          "metadata": {},
          "execution_count": 9
        }
      ]
    },
    {
      "cell_type": "code",
      "source": [
        "plt.scatter(X_train[y_train==0,0],X_train[y_train==0,1],label = 'class0',marker='o')\n",
        "plt.scatter(X_train[y_train==1,0],X_train[y_train==1,1],label = 'class1',marker='s')\n",
        "plt.xlabel('feature 1')\n",
        "plt.ylabel('feature 2')\n",
        "plt.legend()\n",
        "plt.show()\n"
      ],
      "metadata": {
        "colab": {
          "base_uri": "https://localhost:8080/",
          "height": 279
        },
        "id": "vdiTJDTbj6pe",
        "outputId": "04a45390-a905-4380-cbfd-153d93217166"
      },
      "execution_count": 10,
      "outputs": [
        {
          "output_type": "display_data",
          "data": {
            "text/plain": [
              "<Figure size 432x288 with 1 Axes>"
            ],
            "image/png": "[encoded data removed]"
          },
          "metadata": {
            "needs_background": "light"
          }
        }
      ]
    },
    {
      "cell_type": "code",
      "source": [
        "# from torch.cuda import device_of\n",
        "# device = torch.device(\"cuda:0\" if torch.cuda.is_available() else \"cpu\")\n",
        "# def custom_where(cond,x_1,x_2):\n",
        "#   return (cond*x_1)+((1-cond)*x_2)\n",
        "\n",
        "\n",
        "# class Perceptron():\n",
        "#   def __init__(self,num_features):\n",
        "#     self.num_features = num_features\n",
        "#     self.weights = torch.zeros(num_features,1,dtype = torch.float32,device=device)\n",
        "#     self.bias = torch.zeros(1,dtype = torch.float32,device = device)\n",
        "#   def forward(self,x):\n",
        "#     linear = torch.add(torch.mm(x,self.weights),self.bias)\n",
        "#     predictions = custom_where(linear>0.,1,0).float()\n",
        "#     return predictions\n",
        "#   def backward(self,x,y):\n",
        "#     predictions = self.forward(x)\n",
        "#     errors = y - predictions\n",
        "#     return errors\n",
        "#   def train(self,x,y,epochs):\n",
        "#     for e in range(epochs):\n",
        "#       for i in range(y.size()[0]):\n",
        "#         errors = self.backward(x[i].view(1,self.num_features),y[i]).view(-1)\n",
        "#         self.weights +=(errors* x[i]).view(self.num_features,1)\n",
        "#         self.bias +=errors\n",
        "#   def evaluate(self,x,y):\n",
        "#     predictions = self.forward(x).view(-1)\n",
        "#     accuracy = torch.sum(predictions==y).float()/y.size()[0]\n",
        "#     return accuracy\n",
        "device = torch.device(\"cuda:0\" if torch.cuda.is_available() else \"cpu\")\n",
        "\n",
        "\n",
        "def custom_where(cond, x_1, x_2):\n",
        "    return (cond * x_1) + (~(cond) * x_2)\n",
        "\n",
        "\n",
        "class Perceptron():\n",
        "    def __init__(self, num_features):\n",
        "        self.num_features = num_features\n",
        "        self.weights = torch.zeros(num_features, 1, \n",
        "                                   dtype=torch.float32, device=device)\n",
        "        self.bias = torch.zeros(1, dtype=torch.float32, device=device)\n",
        "\n",
        "    def forward(self, x):\n",
        "        linear = torch.add(torch.mm(x, self.weights), self.bias)\n",
        "        predictions = custom_where(linear > 0., 1, 0).float()\n",
        "        return predictions\n",
        "        \n",
        "    def backward(self, x, y):  \n",
        "        predictions = self.forward(x)\n",
        "        errors = y - predictions\n",
        "        return errors\n",
        "        \n",
        "    def train(self, x, y, epochs):\n",
        "        for e in range(epochs):\n",
        "            \n",
        "            for i in range(y.size()[0]):\n",
        "                # use view because backward expects a matrix (i.e., 2D tensor)\n",
        "                errors = self.backward(x[i].view(1, self.num_features), y[i]).view(-1)\n",
        "                self.weights += (errors * x[i]).view(self.num_features, 1)\n",
        "                self.bias += errors\n",
        "                \n",
        "    def evaluate(self, x, y):\n",
        "        predictions = self.forward(x).view(-1)\n",
        "        accuracy = torch.sum(predictions == y).float() / y.size()[0]\n",
        "        return accuracy\n"
      ],
      "metadata": {
        "id": "KGoK1r2Xlm0C"
      },
      "execution_count": 22,
      "outputs": []
    },
    {
      "cell_type": "code",
      "source": [
        "ppn = Perceptron(num_features=2)\n",
        "X_train_tensor = torch.tensor(X_train,dtype = torch.float32,device=device)\n",
        "y_train_tensor = torch.tensor(y_train, dtype=torch.float32,device=device)\n",
        "\n",
        "ppn.train(X_train_tensor,y_train_tensor,epochs=5)\n",
        "\n",
        "print('Model parameters:')\n",
        "print(' Weights: %s' % ppn.weights)\n",
        "print(' Bias %s'% ppn.bias)"
      ],
      "metadata": {
        "colab": {
          "base_uri": "https://localhost:8080/"
        },
        "id": "Dn6ZGfo6uJ-L",
        "outputId": "e846da83-b07a-48a7-dc78-a38363ee8326"
      },
      "execution_count": 23,
      "outputs": [
        {
          "output_type": "stream",
          "name": "stdout",
          "text": [
            "Model parameters:\n",
            " Weights: tensor([[1.2734],\n",
            "        [1.3464]])\n",
            " Bias tensor([-1.])\n"
          ]
        }
      ]
    },
    {
      "cell_type": "markdown",
      "source": [
        "Evaluating the model\n",
        "  "
      ],
      "metadata": {
        "id": "iPt5dlfGWLS_"
      }
    },
    {
      "cell_type": "code",
      "source": [
        "X_test_tensor = torch.tensor(X_test,dtype = torch.float32,device=device)\n",
        "y_test_tensor = torch.tensor(y_test,dtype=torch.float32,device=device)\n",
        "\n",
        "test_acc = ppn.evaluate(X_test_tensor,y_test_tensor)\n",
        "print('Test set accuracy %.2f%%' % (test_acc*100))"
      ],
      "metadata": {
        "id": "ByYMABjtu558",
        "colab": {
          "base_uri": "https://localhost:8080/"
        },
        "outputId": "e4eed24a-84f8-476f-9103-e73ecbc879ce"
      },
      "execution_count": 26,
      "outputs": [
        {
          "output_type": "stream",
          "name": "stdout",
          "text": [
            "Test set accuracy 93.33%\n"
          ]
        }
      ]
    },
    {
      "cell_type": "code",
      "source": [
        "w,b = ppn.weights,ppn.bias\n",
        "x_min = -2\n",
        "y_min =((-(w[0]*x_min)-b[0])/w[1])\n",
        "x_max=2\n",
        "y_max = ((-(w[0]*x_max)-b[0])/w[1])  \n",
        "fig, ax = plt.subplots(1, 2, sharex=True, figsize=(7, 3))\n",
        "\n",
        "ax[0].plot([x_min, x_max], [y_min, y_max])\n",
        "ax[1].plot([x_min, x_max], [y_min, y_max])\n",
        "\n",
        "ax[0].scatter(X_train[y_train==0, 0], X_train[y_train==0, 1], label='class 0', marker='o')\n",
        "ax[0].scatter(X_train[y_train==1, 0], X_train[y_train==1, 1], label='class 1', marker='s')\n",
        "\n",
        "ax[1].scatter(X_test[y_test==0, 0], X_test[y_test==0, 1], label='class 0', marker='o')\n",
        "ax[1].scatter(X_test[y_test==1, 0], X_test[y_test==1, 1], label='class 1', marker='s')\n",
        "\n",
        "ax[1].legend(loc='upper left')\n",
        "plt.show()"
      ],
      "metadata": {
        "id": "szT8gryBwJT-",
        "colab": {
          "base_uri": "https://localhost:8080/",
          "height": 300
        },
        "outputId": "ea424da3-3387-4996-a6c3-13d638b1a6b1"
      },
      "execution_count": 27,
      "outputs": [
        {
          "output_type": "stream",
          "name": "stderr",
          "text": [
            "/usr/local/lib/python3.8/dist-packages/numpy/core/shape_base.py:65: FutureWarning: The input object of type 'Tensor' is an array-like implementing one of the corresponding protocols (`__array__`, `__array_interface__` or `__array_struct__`); but not a sequence (or 0-D). In the future, this object will be coerced as if it was first converted using `np.array(obj)`. To retain the old behaviour, you have to either modify the type 'Tensor', or assign to an empty array created with `np.empty(correct_shape, dtype=object)`.\n",
            "  ary = asanyarray(ary)\n",
            "/usr/local/lib/python3.8/dist-packages/numpy/core/shape_base.py:65: VisibleDeprecationWarning: Creating an ndarray from ragged nested sequences (which is a list-or-tuple of lists-or-tuples-or ndarrays with different lengths or shapes) is deprecated. If you meant to do this, you must specify 'dtype=object' when creating the ndarray.\n",
            "  ary = asanyarray(ary)\n"
          ]
        },
        {
          "output_type": "display_data",
          "data": {
            "text/plain": [
              "<Figure size 504x216 with 2 Axes>"
            ],
            "image/png": "[encoded data removed]"
          },
          "metadata": {
            "needs_background": "light"
          }
        }
      ]
    }
  ]
}